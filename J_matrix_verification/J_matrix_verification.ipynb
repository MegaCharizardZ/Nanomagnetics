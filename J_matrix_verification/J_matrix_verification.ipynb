{
 "cells": [
  {
   "cell_type": "code",
   "execution_count": 1,
   "metadata": {},
   "outputs": [],
   "source": [
    "%reset -s -f"
   ]
  },
  {
   "cell_type": "code",
   "execution_count": 2,
   "metadata": {},
   "outputs": [],
   "source": [
    "import numpy as np"
   ]
  },
  {
   "cell_type": "code",
   "execution_count": 3,
   "metadata": {},
   "outputs": [
    {
     "data": {
      "text/plain": [
       "matrix([[-1],\n",
       "        [ 1],\n",
       "        [ 1],\n",
       "        [ 1],\n",
       "        [ 1],\n",
       "        [-1],\n",
       "        [-1],\n",
       "        [-1]])"
      ]
     },
     "execution_count": 3,
     "metadata": {},
     "output_type": "execute_result"
    }
   ],
   "source": [
    "u1=np.matrix('-1,1,1,1,1,-1,-1,-1').transpose()\n",
    "u1"
   ]
  },
  {
   "cell_type": "code",
   "execution_count": 4,
   "metadata": {},
   "outputs": [],
   "source": [
    "u2=np.matrix('1,-1,-1,1,1,-1,1,-1').transpose()\n",
    "u3=np.matrix('1,-1,1,-1,1,1,-1,-1').transpose()\n",
    "u4=np.matrix('1,1,1,1,1,1,1,1').transpose()"
   ]
  },
  {
   "cell_type": "code",
   "execution_count": 5,
   "metadata": {},
   "outputs": [
    {
     "data": {
      "text/plain": [
       "matrix([[-1,  1,  1,  1],\n",
       "        [ 1, -1, -1,  1],\n",
       "        [ 1, -1,  1,  1],\n",
       "        [ 1,  1, -1,  1],\n",
       "        [ 1,  1,  1,  1],\n",
       "        [-1, -1,  1,  1],\n",
       "        [-1,  1, -1,  1],\n",
       "        [-1, -1, -1,  1]])"
      ]
     },
     "execution_count": 5,
     "metadata": {},
     "output_type": "execute_result"
    }
   ],
   "source": [
    "U=np.concatenate((u1,u2,u3,u4), axis=1)\n",
    "U"
   ]
  },
  {
   "cell_type": "code",
   "execution_count": 6,
   "metadata": {},
   "outputs": [
    {
     "data": {
      "text/plain": [
       "matrix([[8, 0, 0, 0],\n",
       "        [0, 8, 0, 0],\n",
       "        [0, 0, 8, 0],\n",
       "        [0, 0, 0, 8]])"
      ]
     },
     "execution_count": 6,
     "metadata": {},
     "output_type": "execute_result"
    }
   ],
   "source": [
    "S=np.matmul(U.transpose(),U)\n",
    "S"
   ]
  },
  {
   "cell_type": "code",
   "execution_count": 7,
   "metadata": {},
   "outputs": [],
   "source": [
    "J=1/8.0*(np.matmul(u1,u1.transpose())+np.matmul(u2,u2.transpose())+np.matmul(u3,u3.transpose())+np.matmul(u4,u4.transpose()))"
   ]
  },
  {
   "cell_type": "code",
   "execution_count": 8,
   "metadata": {},
   "outputs": [
    {
     "data": {
      "text/plain": [
       "matrix([[ 0.5 , -0.25,  0.  ,  0.  ,  0.25,  0.25,  0.25,  0.  ],\n",
       "        [-0.25,  0.5 ,  0.25,  0.25,  0.  ,  0.  ,  0.  ,  0.25],\n",
       "        [ 0.  ,  0.25,  0.5 ,  0.  ,  0.25,  0.25, -0.25,  0.  ],\n",
       "        [ 0.  ,  0.25,  0.  ,  0.5 ,  0.25, -0.25,  0.25,  0.  ],\n",
       "        [ 0.25,  0.  ,  0.25,  0.25,  0.5 ,  0.  ,  0.  , -0.25],\n",
       "        [ 0.25,  0.  ,  0.25, -0.25,  0.  ,  0.5 ,  0.  ,  0.25],\n",
       "        [ 0.25,  0.  , -0.25,  0.25,  0.  ,  0.  ,  0.5 ,  0.25],\n",
       "        [ 0.  ,  0.25,  0.  ,  0.  , -0.25,  0.25,  0.25,  0.5 ]])"
      ]
     },
     "execution_count": 8,
     "metadata": {},
     "output_type": "execute_result"
    }
   ],
   "source": [
    "J"
   ]
  },
  {
   "cell_type": "code",
   "execution_count": 9,
   "metadata": {},
   "outputs": [],
   "source": [
    "for i in range(8):\n",
    "    J[i,i]=0"
   ]
  },
  {
   "cell_type": "code",
   "execution_count": 10,
   "metadata": {},
   "outputs": [
    {
     "data": {
      "text/plain": [
       "matrix([[ 0.  , -0.25,  0.  ,  0.  ,  0.25,  0.25,  0.25,  0.  ],\n",
       "        [-0.25,  0.  ,  0.25,  0.25,  0.  ,  0.  ,  0.  ,  0.25],\n",
       "        [ 0.  ,  0.25,  0.  ,  0.  ,  0.25,  0.25, -0.25,  0.  ],\n",
       "        [ 0.  ,  0.25,  0.  ,  0.  ,  0.25, -0.25,  0.25,  0.  ],\n",
       "        [ 0.25,  0.  ,  0.25,  0.25,  0.  ,  0.  ,  0.  , -0.25],\n",
       "        [ 0.25,  0.  ,  0.25, -0.25,  0.  ,  0.  ,  0.  ,  0.25],\n",
       "        [ 0.25,  0.  , -0.25,  0.25,  0.  ,  0.  ,  0.  ,  0.25],\n",
       "        [ 0.  ,  0.25,  0.  ,  0.  , -0.25,  0.25,  0.25,  0.  ]])"
      ]
     },
     "execution_count": 10,
     "metadata": {},
     "output_type": "execute_result"
    }
   ],
   "source": [
    "J"
   ]
  },
  {
   "cell_type": "code",
   "execution_count": 11,
   "metadata": {},
   "outputs": [
    {
     "data": {
      "text/plain": [
       "matrix([[ 0., -1.,  0.,  0.,  1.,  1.,  1.,  0.],\n",
       "        [-1.,  0.,  1.,  1.,  0.,  0.,  0.,  1.],\n",
       "        [ 0.,  1.,  0.,  0.,  1.,  1., -1.,  0.],\n",
       "        [ 0.,  1.,  0.,  0.,  1., -1.,  1.,  0.],\n",
       "        [ 1.,  0.,  1.,  1.,  0.,  0.,  0., -1.],\n",
       "        [ 1.,  0.,  1., -1.,  0.,  0.,  0.,  1.],\n",
       "        [ 1.,  0., -1.,  1.,  0.,  0.,  0.,  1.],\n",
       "        [ 0.,  1.,  0.,  0., -1.,  1.,  1.,  0.]])"
      ]
     },
     "execution_count": 11,
     "metadata": {},
     "output_type": "execute_result"
    }
   ],
   "source": [
    "J*4"
   ]
  },
  {
   "cell_type": "code",
   "execution_count": null,
   "metadata": {},
   "outputs": [],
   "source": []
  }
 ],
 "metadata": {
  "kernelspec": {
   "display_name": "Python 3",
   "language": "python",
   "name": "python3"
  },
  "language_info": {
   "codemirror_mode": {
    "name": "ipython",
    "version": 3
   },
   "file_extension": ".py",
   "mimetype": "text/x-python",
   "name": "python",
   "nbconvert_exporter": "python",
   "pygments_lexer": "ipython3",
   "version": "3.6.7"
  }
 },
 "nbformat": 4,
 "nbformat_minor": 4
}
