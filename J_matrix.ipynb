{
  "nbformat": 4,
  "nbformat_minor": 0,
  "metadata": {
    "colab": {
      "name": "Untitled15.ipynb",
      "provenance": [],
      "authorship_tag": "ABX9TyNlJzQyGR6Vb6MO3W+SC3L9",
      "include_colab_link": true
    },
    "kernelspec": {
      "name": "python3",
      "display_name": "Python 3"
    },
    "language_info": {
      "name": "python"
    }
  },
  "cells": [
    {
      "cell_type": "markdown",
      "metadata": {
        "id": "view-in-github",
        "colab_type": "text"
      },
      "source": [
        "<a href=\"https://colab.research.google.com/github/MegaCharizardZ/Nanomagnetics/blob/main/J_matrix.ipynb\" target=\"_parent\"><img src=\"https://colab.research.google.com/assets/colab-badge.svg\" alt=\"Open In Colab\"/></a>"
      ]
    },
    {
      "cell_type": "code",
      "execution_count": 1,
      "metadata": {
        "id": "4JUee5ZaLKPd"
      },
      "outputs": [],
      "source": [
        "%reset -s -f"
      ]
    },
    {
      "cell_type": "code",
      "source": [
        "import numpy as np  "
      ],
      "metadata": {
        "id": "t19jbX2jLPrT"
      },
      "execution_count": 2,
      "outputs": []
    },
    {
      "cell_type": "code",
      "source": [
        "u1=np.matrix('1,-1,-1,-1').transpose()\n",
        "u1"
      ],
      "metadata": {
        "colab": {
          "base_uri": "https://localhost:8080/"
        },
        "id": "KCRFLYLeLPt2",
        "outputId": "ffb4f33f-df94-4cfe-8349-a800aaf03809"
      },
      "execution_count": 3,
      "outputs": [
        {
          "output_type": "execute_result",
          "data": {
            "text/plain": [
              "matrix([[ 1],\n",
              "        [-1],\n",
              "        [-1],\n",
              "        [-1]])"
            ]
          },
          "metadata": {},
          "execution_count": 3
        }
      ]
    },
    {
      "cell_type": "code",
      "source": [
        "u2=np.matrix('1,-1,1,-1').transpose()\n",
        "u3=np.matrix('1,1,-1,-1').transpose()\n",
        "u4=np.matrix('1,1,1,1').transpose()"
      ],
      "metadata": {
        "id": "s0CA12bPLPwZ"
      },
      "execution_count": 4,
      "outputs": []
    },
    {
      "cell_type": "code",
      "source": [
        "U=np.concatenate((u1,u2,u3,u4), axis=1)\n",
        "U"
      ],
      "metadata": {
        "colab": {
          "base_uri": "https://localhost:8080/"
        },
        "id": "WDlhsls_LPy4",
        "outputId": "e13afe6b-c0a6-4301-bdcf-46335f0359ba"
      },
      "execution_count": 5,
      "outputs": [
        {
          "output_type": "execute_result",
          "data": {
            "text/plain": [
              "matrix([[ 1,  1,  1,  1],\n",
              "        [-1, -1,  1,  1],\n",
              "        [-1,  1, -1,  1],\n",
              "        [-1, -1, -1,  1]])"
            ]
          },
          "metadata": {},
          "execution_count": 5
        }
      ]
    },
    {
      "cell_type": "code",
      "source": [
        "S=np.matmul(U.transpose(),U)\n",
        "S\n",
        "np.linalg.det(S)"
      ],
      "metadata": {
        "colab": {
          "base_uri": "https://localhost:8080/"
        },
        "id": "PHfSMgT_LP2P",
        "outputId": "eb6cb4c0-9853-454f-a6c6-41ffb505b673"
      },
      "execution_count": 6,
      "outputs": [
        {
          "output_type": "execute_result",
          "data": {
            "text/plain": [
              "63.99999999999998"
            ]
          },
          "metadata": {},
          "execution_count": 6
        }
      ]
    },
    {
      "cell_type": "code",
      "source": [
        "J=np.linalg.inv(S)*(np.matmul(u1,u1.transpose())+np.matmul(u2,u2.transpose())+np.matmul(u3,u3.transpose())+np.matmul(u4,u4.transpose()))\n",
        "J"
      ],
      "metadata": {
        "colab": {
          "base_uri": "https://localhost:8080/"
        },
        "id": "oqQCLJHVLfaE",
        "outputId": "2d18df83-f06a-4ce3-8e8d-16e08fbcc5ee"
      },
      "execution_count": 7,
      "outputs": [
        {
          "output_type": "execute_result",
          "data": {
            "text/plain": [
              "matrix([[ 3.00000000e+00, -1.00000000e+00, -1.00000000e+00,\n",
              "         -2.00000000e+00],\n",
              "        [-1.50000000e+00,  1.50000000e+00,  5.00000000e-01,\n",
              "          1.50000000e+00],\n",
              "        [-1.50000000e+00,  5.00000000e-01,  1.50000000e+00,\n",
              "          1.50000000e+00],\n",
              "        [ 1.00000000e+00,  1.11022302e-16,  2.22044605e-16,\n",
              "          4.44089210e-16]])"
            ]
          },
          "metadata": {},
          "execution_count": 7
        }
      ]
    },
    {
      "cell_type": "code",
      "source": [
        "J=np.linalg.inv(S)[0,0]*np.matmul(u1,u1.transpose())+np.linalg.inv(S)[0,1]*np.matmul(u1,u2.transpose())+np.linalg.inv(S)[1,0]*np.matmul(u2,u1.transpose())+np.linalg.inv(S)[1,1]*np.matmul(u2,u2.transpose())+np.linalg.inv(S)[2,1]*np.matmul(u3,u2.transpose())+np.linalg.inv(S)[1,2]*np.matmul(u2,u3.transpose())+np.linalg.inv(S)[2,2]*np.matmul(u3,u3.transpose())+np.linalg.inv(S)[2,3]*np.matmul(u3,u4.transpose())+np.linalg.inv(S)[3,2]*np.matmul(u4,u3.transpose())+np.linalg.inv(S)[3,3]*np.matmul(u4,u4.transpose())\n",
        "\n",
        "\n",
        "\n",
        "\n",
        "\n",
        "J\n",
        "\n"
      ],
      "metadata": {
        "id": "k21WMYlHLlWJ",
        "colab": {
          "base_uri": "https://localhost:8080/"
        },
        "outputId": "f8df8bf3-3c38-4144-e112-fe689ca57626"
      },
      "execution_count": 8,
      "outputs": [
        {
          "output_type": "execute_result",
          "data": {
            "text/plain": [
              "matrix([[ 1.50000000e+00,  0.00000000e+00, -5.00000000e-01,\n",
              "         -1.00000000e+00],\n",
              "        [ 1.11022302e-16,  5.00000000e-01,  1.00000000e+00,\n",
              "          5.00000000e-01],\n",
              "        [-5.00000000e-01,  1.00000000e+00,  3.50000000e+00,\n",
              "          2.00000000e+00],\n",
              "        [-1.00000000e+00,  5.00000000e-01,  2.00000000e+00,\n",
              "          2.50000000e+00]])"
            ]
          },
          "metadata": {},
          "execution_count": 8
        }
      ]
    },
    {
      "cell_type": "code",
      "source": [
        "import math\n",
        "for i in range(4):\n",
        "  for j in range(4):\n",
        "    J[i,j]=2*J[i,j]\n",
        "    J[i,j]=math.floor(J[i,j])\n",
        "  J[i,i]=0\n",
        "J"
      ],
      "metadata": {
        "colab": {
          "base_uri": "https://localhost:8080/"
        },
        "id": "fmf8P8KmIoR0",
        "outputId": "8eebbfa8-6959-4c45-94de-1ee49763d685"
      },
      "execution_count": 9,
      "outputs": [
        {
          "output_type": "execute_result",
          "data": {
            "text/plain": [
              "matrix([[ 0.,  0., -1., -2.],\n",
              "        [ 0.,  0.,  1.,  1.],\n",
              "        [-1.,  1.,  0.,  3.],\n",
              "        [-2.,  1.,  3.,  0.]])"
            ]
          },
          "metadata": {},
          "execution_count": 9
        }
      ]
    },
    {
      "cell_type": "code",
      "source": [
        "J*=2\n",
        "for i in range(4):\n",
        "  for j in range(4):\n",
        "    J[i,j]=int(J[i,j])\n",
        "for i in range(4):\n",
        "  J[i,i]=0\n",
        "J"
      ],
      "metadata": {
        "colab": {
          "base_uri": "https://localhost:8080/"
        },
        "id": "IFxDBekhAWCG",
        "outputId": "ff36cf3f-3864-4d2f-e955-c9fc25060558"
      },
      "execution_count": 10,
      "outputs": [
        {
          "output_type": "execute_result",
          "data": {
            "text/plain": [
              "matrix([[ 0.,  0., -2., -4.],\n",
              "        [ 0.,  0.,  2.,  2.],\n",
              "        [-2.,  2.,  0.,  6.],\n",
              "        [-4.,  2.,  6.,  0.]])"
            ]
          },
          "metadata": {},
          "execution_count": 10
        }
      ]
    },
    {
      "cell_type": "code",
      "source": [
        "np.matmul(u1,u1.transpose())"
      ],
      "metadata": {
        "colab": {
          "base_uri": "https://localhost:8080/"
        },
        "id": "wKMhCgW2CjND",
        "outputId": "92e13e0c-d2f1-44f7-9703-4ded6037d029"
      },
      "execution_count": 11,
      "outputs": [
        {
          "output_type": "execute_result",
          "data": {
            "text/plain": [
              "matrix([[ 1, -1, -1, -1],\n",
              "        [-1,  1,  1,  1],\n",
              "        [-1,  1,  1,  1],\n",
              "        [-1,  1,  1,  1]])"
            ]
          },
          "metadata": {},
          "execution_count": 11
        }
      ]
    },
    {
      "cell_type": "code",
      "source": [
        "J=np.array([[0,0,-1,-2],[0,0,2,1],[-1,2,0,4],[-2,1,4,0]])\n",
        "J"
      ],
      "metadata": {
        "colab": {
          "base_uri": "https://localhost:8080/"
        },
        "id": "UUMUZu-RHqgP",
        "outputId": "bda4fac8-0061-4ac7-a608-8617fee6e647"
      },
      "execution_count": 12,
      "outputs": [
        {
          "output_type": "execute_result",
          "data": {
            "text/plain": [
              "array([[ 0,  0, -1, -2],\n",
              "       [ 0,  0,  2,  1],\n",
              "       [-1,  2,  0,  4],\n",
              "       [-2,  1,  4,  0]])"
            ]
          },
          "metadata": {},
          "execution_count": 12
        }
      ]
    }
  ]
}